{
 "cells": [
  {
   "cell_type": "markdown",
   "id": "f8b503e5-14e5-4815-aea1-544eb002446c",
   "metadata": {},
   "source": [
    "## Imports"
   ]
  },
  {
   "cell_type": "code",
   "execution_count": null,
   "id": "f6c94e51-706a-4ee4-80b7-95a2f3e65595",
   "metadata": {},
   "outputs": [],
   "source": [
    "import pandas as pd"
   ]
  },
  {
   "cell_type": "markdown",
   "id": "b78e28bf-3078-4211-a7b3-824b32f847b3",
   "metadata": {},
   "source": [
    "### Data Source"
   ]
  },
  {
   "cell_type": "code",
   "execution_count": null,
   "id": "431d014b-1411-4d63-aae4-d86a06c17851",
   "metadata": {},
   "outputs": [],
   "source": [
    "https://www.bls.gov/cex/tables/geographic/mean.htm"
   ]
  },
  {
   "cell_type": "markdown",
   "id": "1dba2ee0-639e-471e-88b3-f0b05909881d",
   "metadata": {},
   "source": [
    "In order to get the data in a code readable format I had to download the 25 different excel sheets in the data folder and then manually combine them into one large file, as well as do manual transposition of the table and some additional clean up"
   ]
  },
  {
   "cell_type": "code",
   "execution_count": null,
   "id": "bf9f9568-3b22-492f-b5a1-d72e48888983",
   "metadata": {},
   "outputs": [],
   "source": []
  },
  {
   "cell_type": "code",
   "execution_count": 4,
   "id": "e8115246-7b77-4f0b-85cd-88a493a32ad8",
   "metadata": {},
   "outputs": [
    {
     "name": "stdout",
     "output_type": "stream",
     "text": [
      "    Table 1203. Income before taxes: Annual expenditure means, shares, standard errors, and relative standard errors, Consumer Expenditure Surveys, 2023  \\\n",
      "0                                                  NaN                                                                                                     \n",
      "1                                                 Item                                                                                                     \n",
      "2          Number of consumer units (in thousands) a/                                                                                                      \n",
      "3                                                  NaN                                                                                                     \n",
      "4                       Consumer unit characteristics:                                                                                                     \n",
      "..                                                 ...                                                                                                     \n",
      "669                                e No data reported.                                                                                                     \n",
      "670                                                NaN                                                                                                     \n",
      "671                                                NaN                                                                                                     \n",
      "672                                                NaN                                                                                                     \n",
      "673  Source: Consumer Expenditure Surveys, U.S. Bur...                                                                                                     \n",
      "\n",
      "               Unnamed: 1           Unnamed: 2            Unnamed: 3  \\\n",
      "0                     NaN                  NaN                   NaN   \n",
      "1    All\\nconsumer\\nunits  Less\\nthan\\n$15,000  $15,000\\nto\\n$29,999   \n",
      "2                  134556                11492                 17114   \n",
      "3                     NaN                  NaN                   NaN   \n",
      "4                     NaN                  NaN                   NaN   \n",
      "..                    ...                  ...                   ...   \n",
      "669                   NaN                  NaN                   NaN   \n",
      "670                   NaN                  NaN                   NaN   \n",
      "671                   NaN                  NaN                   NaN   \n",
      "672                   NaN                  NaN                   NaN   \n",
      "673                   NaN                  NaN                   NaN   \n",
      "\n",
      "               Unnamed: 4            Unnamed: 5            Unnamed: 6  \\\n",
      "0                     NaN                   NaN                   NaN   \n",
      "1    $30,000\\nto\\n$39,999  $40,000\\nto\\n$49,999  $50,000\\nto\\n$69,999   \n",
      "2                   11137                  9814                 17068   \n",
      "3                     NaN                   NaN                   NaN   \n",
      "4                     NaN                   NaN                   NaN   \n",
      "..                    ...                   ...                   ...   \n",
      "669                   NaN                   NaN                   NaN   \n",
      "670                   NaN                   NaN                   NaN   \n",
      "671                   NaN                   NaN                   NaN   \n",
      "672                   NaN                   NaN                   NaN   \n",
      "673                   NaN                   NaN                   NaN   \n",
      "\n",
      "               Unnamed: 7              Unnamed: 8              Unnamed: 9  \\\n",
      "0                     NaN                     NaN                     NaN   \n",
      "1    $70,000\\nto\\n$99,999  $100,000\\nto\\n$149,999  $150,000\\nto\\n$199,999   \n",
      "2                   18939                   22396                   11237   \n",
      "3                     NaN                     NaN                     NaN   \n",
      "4                     NaN                     NaN                     NaN   \n",
      "..                    ...                     ...                     ...   \n",
      "669                   NaN                     NaN                     NaN   \n",
      "670                   NaN                     NaN                     NaN   \n",
      "671                   NaN                     NaN                     NaN   \n",
      "672                   NaN                     NaN                     NaN   \n",
      "673                   NaN                     NaN                     NaN   \n",
      "\n",
      "             Unnamed: 10  \n",
      "0                    NaN  \n",
      "1    $200,000\\nand\\nmore  \n",
      "2                  15359  \n",
      "3                    NaN  \n",
      "4                    NaN  \n",
      "..                   ...  \n",
      "669                  NaN  \n",
      "670                  NaN  \n",
      "671                  NaN  \n",
      "672                  NaN  \n",
      "673                  NaN  \n",
      "\n",
      "[674 rows x 11 columns]\n"
     ]
    },
    {
     "name": "stderr",
     "output_type": "stream",
     "text": [
      "C:\\Users\\dewan\\AppData\\Local\\Programs\\Python\\Python311\\Lib\\site-packages\\openpyxl\\styles\\stylesheet.py:237: UserWarning: Workbook contains no default style, apply openpyxl's default\n",
      "  warn(\"Workbook contains no default style, apply openpyxl's default\")\n"
     ]
    }
   ],
   "source": [
    "   excel_file = 'Damn.xlsx'  # Replace with your file path\n",
    "   df = pd.read_excel(excel_file)\n",
    "   print(df)"
   ]
  }
 ],
 "metadata": {
  "kernelspec": {
   "display_name": "Python 3 (ipykernel)",
   "language": "python",
   "name": "python3"
  },
  "language_info": {
   "codemirror_mode": {
    "name": "ipython",
    "version": 3
   },
   "file_extension": ".py",
   "mimetype": "text/x-python",
   "name": "python",
   "nbconvert_exporter": "python",
   "pygments_lexer": "ipython3",
   "version": "3.11.5"
  }
 },
 "nbformat": 4,
 "nbformat_minor": 5
}
