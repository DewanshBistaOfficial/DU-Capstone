{
 "cells": [
  {
   "cell_type": "markdown",
   "id": "f8b503e5-14e5-4815-aea1-544eb002446c",
   "metadata": {},
   "source": [
    "## Imports"
   ]
  },
  {
   "cell_type": "code",
   "execution_count": null,
   "id": "f6c94e51-706a-4ee4-80b7-95a2f3e65595",
   "metadata": {},
   "outputs": [],
   "source": [
    "import sys\n",
    "import pandas as pd\n",
    "sys.path.append('Scripts')\n",
    "import helper\n",
    "import grapher"
   ]
  },
  {
   "cell_type": "markdown",
   "id": "b78e28bf-3078-4211-a7b3-824b32f847b3",
   "metadata": {},
   "source": [
    "### Data Source"
   ]
  },
  {
   "cell_type": "markdown",
   "id": "c435517d-f625-457a-8bff-717d0c221afd",
   "metadata": {},
   "source": [
    "Main Data Source:\n",
    "https://www.bls.gov/cex/tables.htm\n",
    "\n",
    "Definition for a Consumer Unit:\n",
    "https://www.bls.gov/opub/hom/cex/concepts.htm"
   ]
  },
  {
   "cell_type": "markdown",
   "id": "5b98cd26-b55d-4b23-b1a3-4b79e9d58315",
   "metadata": {},
   "source": [
    "### Get Data From Helper Functions"
   ]
  },
  {
   "cell_type": "code",
   "execution_count": null,
   "id": "2bf7beef-e64c-4292-b3c8-e57ec9cf4e8a",
   "metadata": {},
   "outputs": [],
   "source": [
    "data = helper.get_data('Data')"
   ]
  },
  {
   "cell_type": "markdown",
   "id": "46aec8dd-7a81-406e-b40f-7359411bbe18",
   "metadata": {},
   "source": [
    "### Graphs"
   ]
  },
  {
   "cell_type": "markdown",
   "id": "387f8cfc-1ffd-4f46-8f09-2e7468867c6a",
   "metadata": {
    "jp-MarkdownHeadingCollapsed": true
   },
   "source": [
    "#### Difference Between Income after taxes and Average annual expenditures "
   ]
  },
  {
   "cell_type": "code",
   "execution_count": null,
   "id": "2c262114-d29d-468e-b533-cbbc15d1d83c",
   "metadata": {},
   "outputs": [],
   "source": [
    "df_result = helper.get_helper(df, 'Income after taxes', 1) - helper.get_helper(df, 'Average annual expenditures', 1)\n",
    "grapher.graph_all(df_result, \"Spending Gap\")\n",
    "df_result"
   ]
  },
  {
   "cell_type": "markdown",
   "id": "027f9cb3-0ada-4b7c-8c21-7394af436d5b",
   "metadata": {},
   "source": [
    "#### Home Ownership Rates"
   ]
  },
  {
   "cell_type": "code",
   "execution_count": null,
   "id": "3b544df9-2f8f-409e-8f9a-e9492cbe9002",
   "metadata": {},
   "outputs": [],
   "source": [
    "df = helper.get_helper(data, 'Homeowner', 0)\n",
    "grapher.graph_all(df, \"Home Ownership\")\n",
    "df"
   ]
  },
  {
   "cell_type": "markdown",
   "id": "03ebdead-a7f8-465d-888d-6a4f96c27b59",
   "metadata": {},
   "source": [
    "#### Housing Costs"
   ]
  },
  {
   "cell_type": "code",
   "execution_count": null,
   "id": "7d45a8e0-01a0-4fa0-b41f-bcd220a255c0",
   "metadata": {},
   "outputs": [],
   "source": [
    "df = helper.get_helper(data, 'Housing', 1)\n",
    "grapher.graph_all(df, \"Housing Costs\")\n",
    "df"
   ]
  },
  {
   "cell_type": "markdown",
   "id": "ff134e93-76b7-4bcf-86c8-389392745214",
   "metadata": {},
   "source": [
    "#### Food Expenditures"
   ]
  },
  {
   "cell_type": "code",
   "execution_count": null,
   "id": "ea270eaf-5c08-4b20-a826-f1d893120a79",
   "metadata": {},
   "outputs": [],
   "source": [
    "df = helper.get_helper(data, 'Food', 2)\n",
    "grapher.graph_all(df, \"Share of Expenditure On Food\")\n",
    "df"
   ]
  },
  {
   "cell_type": "code",
   "execution_count": null,
   "id": "3ad27019-7fc9-40df-92f8-80df720bffa2",
   "metadata": {},
   "outputs": [],
   "source": [
    "df = helper.get_helper(data, 'Food', 1)\n",
    "grapher.graph_all(df, \"Expenditure On Food\")\n",
    "df"
   ]
  },
  {
   "cell_type": "code",
   "execution_count": null,
   "id": "8755e618-ccbe-4d20-8321-bd8cbc26af85",
   "metadata": {},
   "outputs": [],
   "source": [
    "df = helper.get_helper(data, 'Food away from home', 2)\n",
    "grapher.graph_all(df, \"Share of eating out\")\n",
    "df"
   ]
  },
  {
   "cell_type": "code",
   "execution_count": null,
   "id": "35fb821b-1330-4924-97d9-12dd6ff17c05",
   "metadata": {},
   "outputs": [],
   "source": [
    "#### Entertainment"
   ]
  },
  {
   "cell_type": "code",
   "execution_count": null,
   "id": "b973ddde-58d0-4265-954e-c8e6b93854a6",
   "metadata": {},
   "outputs": [],
   "source": [
    "df = helper.get_helper(data, 'Alcoholic beverages', 2)\n",
    "grapher.graph_all(df, \"Share of eating out\")\n",
    "df"
   ]
  },
  {
   "cell_type": "code",
   "execution_count": null,
   "id": "5f91fcce-3e68-4550-9402-7f898d6423ac",
   "metadata": {},
   "outputs": [],
   "source": [
    "df = helper.get_helper(data, 'Entertainment', 2)\n",
    "grapher.graph_all(df, \"Share of eating out\")\n",
    "df"
   ]
  },
  {
   "cell_type": "markdown",
   "id": "af43f299-e366-4f62-9595-741bd992c407",
   "metadata": {},
   "source": [
    "#### Essential Services"
   ]
  },
  {
   "cell_type": "code",
   "execution_count": null,
   "id": "29b0bd06-7886-48cb-85bf-6add1aefebf9",
   "metadata": {},
   "outputs": [],
   "source": [
    "df = helper.get_helper(data, 'Transportation', 2)\n",
    "grapher.graph_all(df, \"Share of eating out\")\n",
    "df"
   ]
  },
  {
   "cell_type": "code",
   "execution_count": null,
   "id": "281cb787-0370-4eec-a203-40c9275dc228",
   "metadata": {},
   "outputs": [],
   "source": [
    "df = helper.get_helper(data, 'Health care', 2)\n",
    "grapher.graph_all(df, \"Share of eating out\")\n",
    "df"
   ]
  },
  {
   "cell_type": "code",
   "execution_count": null,
   "id": "fac99b09-3d1b-42ad-a5e9-2d0b69fdac95",
   "metadata": {},
   "outputs": [],
   "source": [
    "#### Education"
   ]
  },
  {
   "cell_type": "code",
   "execution_count": null,
   "id": "95115261-80b1-4e81-a585-6575639f7fe4",
   "metadata": {},
   "outputs": [],
   "source": [
    "df = helper.get_helper(data, 'Education', 2)\n",
    "grapher.graph_all(df, \"Share of eating out\")\n",
    "df"
   ]
  }
 ],
 "metadata": {
  "kernelspec": {
   "display_name": "Python 3 (ipykernel)",
   "language": "python",
   "name": "python3"
  },
  "language_info": {
   "codemirror_mode": {
    "name": "ipython",
    "version": 3
   },
   "file_extension": ".py",
   "mimetype": "text/x-python",
   "name": "python",
   "nbconvert_exporter": "python",
   "pygments_lexer": "ipython3",
   "version": "3.11.5"
  }
 },
 "nbformat": 4,
 "nbformat_minor": 5
}
